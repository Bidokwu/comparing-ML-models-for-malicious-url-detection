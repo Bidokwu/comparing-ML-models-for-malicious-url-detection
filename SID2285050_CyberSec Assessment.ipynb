{
 "cells": [
  {
   "cell_type": "code",
   "execution_count": 3,
   "id": "7f61e7cf-5713-4ec4-956c-a4c746446984",
   "metadata": {
    "scrolled": true
   },
   "outputs": [],
   "source": [
    "# !pip install lightgbm"
   ]
  },
  {
   "cell_type": "code",
   "execution_count": 4,
   "id": "78da7a86-7c41-44c5-815b-8da55be9f1ca",
   "metadata": {},
   "outputs": [],
   "source": [
    "import pandas as pd \n",
    "import itertools\n",
    "from sklearn.metrics import classification_report, confusion_matrix, accuracy_score\n",
    "from sklearn.model_selection import train_test_split\n",
    "import pandas as pd\n",
    "import numpy as np\n",
    "import matplotlib.pyplot as plt\n",
    "import xgboost as xgb\n",
    "from lightgbm import LGBMClassifier\n",
    "import os\n",
    "import seaborn as sns\n",
    "from wordcloud import WordCloud"
   ]
  },
  {
   "cell_type": "code",
   "execution_count": 5,
   "id": "6b9d658c-9479-4b40-9576-177d80a5ef8d",
   "metadata": {
    "scrolled": true
   },
   "outputs": [],
   "source": [
    "# pip install wordcloud"
   ]
  },
  {
   "cell_type": "code",
   "execution_count": 6,
   "id": "974d7708-de90-4488-a526-82818d90911d",
   "metadata": {},
   "outputs": [],
   "source": [
    "data = pd.read_csv('./malicious_phish.csv')"
   ]
  },
  {
   "cell_type": "code",
   "execution_count": 7,
   "id": "5c04bdbc-0a03-4b97-b9fb-743e51dcbf94",
   "metadata": {},
   "outputs": [],
   "source": [
    "# data.head()"
   ]
  },
  {
   "cell_type": "code",
   "execution_count": 8,
   "id": "e52732e8-88a7-43ef-adc8-47be5be73790",
   "metadata": {},
   "outputs": [],
   "source": [
    "# print(data.shape)"
   ]
  },
  {
   "cell_type": "code",
   "execution_count": 9,
   "id": "f845d47e-2201-435a-97a4-1031974996fb",
   "metadata": {},
   "outputs": [],
   "source": [
    "# data.type.value_counts()"
   ]
  },
  {
   "cell_type": "code",
   "execution_count": 10,
   "id": "6e9d750f-fb19-41d7-9a32-5fdd72a615aa",
   "metadata": {},
   "outputs": [],
   "source": [
    "# We will populate a wordcloud to represent text data, where the size of each word indicates its frequency or importance within the text. \n",
    "\n",
    "phishing_data = data[data.type == 'phishing']\n",
    "malware_data = data[data.type == 'malware']\n",
    "defacement_data = data[data.type == 'defacement']\n",
    "benign_data = data[data.type == 'benign']"
   ]
  },
  {
   "cell_type": "code",
   "execution_count": 11,
   "id": "ec803cbb-20a5-41f2-b292-f9815b12aeaa",
   "metadata": {},
   "outputs": [],
   "source": [
    "# # For wordcloud of phishing URL data\n",
    "\n",
    "# phishing_wordcloud = \" \".join(i for i in phishing_data.url)\n",
    "# wordcloud = WordCloud(width=1600, height=800, colormap='Paired').generate(phishing_wordcloud)\n",
    "# plt.figure(figsize=(12, 14), facecolor='k')\n",
    "# plt.imshow(wordcloud, interpolation='bilinear')\n",
    "# plt.axis(\"off\")\n",
    "# plt.tight_layout (pad=0)\n",
    "# plt.show()"
   ]
  },
  {
   "cell_type": "code",
   "execution_count": 12,
   "id": "4e56514e-12d9-4a9b-ba46-f954918fcb33",
   "metadata": {},
   "outputs": [],
   "source": [
    "# # For wordcloud of malware URL data\n",
    "\n",
    "# malware_wordcloud = \" \".join(i for i in malware_data.url)\n",
    "# wordcloud = WordCloud(width=1600, height=800, colormap='Paired').generate(malware_wordcloud)\n",
    "# plt.figure(figsize=(12, 14), facecolor='k')\n",
    "# plt.imshow(wordcloud, interpolation='bilinear')\n",
    "# plt.axis(\"off\")\n",
    "# plt.tight_layout (pad=0)\n",
    "# plt.show()"
   ]
  },
  {
   "cell_type": "code",
   "execution_count": 13,
   "id": "8617edb8-985c-4759-8424-a62c4f8e7337",
   "metadata": {},
   "outputs": [],
   "source": [
    "# # For wordcloud of defacement URL data\n",
    "\n",
    "# defacement_wordcloud = \" \".join(i for i in defacement_data.url)\n",
    "# wordcloud = WordCloud(width=1600, height=800, colormap='Paired').generate(defacement_wordcloud)\n",
    "# plt.figure(figsize=(12, 14), facecolor='k')\n",
    "# plt.imshow(wordcloud, interpolation='bilinear')\n",
    "# plt.axis(\"off\")\n",
    "# plt.tight_layout (pad=0)\n",
    "# plt.show()"
   ]
  },
  {
   "cell_type": "code",
   "execution_count": 14,
   "id": "93431a63-fa75-4901-958f-6c0276579425",
   "metadata": {},
   "outputs": [],
   "source": [
    "# # For wordcloud of benign URL data\n",
    "\n",
    "# benign_wordcloud = \" \".join(i for i in benign_data.url)\n",
    "# wordcloud = WordCloud(width=1600, height=800, colormap='Paired').generate(benign_wordcloud)\n",
    "# plt.figure(figsize=(12, 14), facecolor='k')\n",
    "# plt.imshow(wordcloud, interpolation='bilinear')\n",
    "# plt.axis(\"off\")\n",
    "# plt.tight_layout (pad=0)\n",
    "# plt.show()"
   ]
  },
  {
   "cell_type": "markdown",
   "id": "8060698a-9598-4e6a-8db3-bf9ff499a090",
   "metadata": {},
   "source": [
    "# "
   ]
  },
  {
   "cell_type": "markdown",
   "id": "02cfd515-ab1e-4b7a-83cc-d51ab5d098d4",
   "metadata": {},
   "source": [
    "# Data Pre Processing"
   ]
  },
  {
   "cell_type": "markdown",
   "id": "6a58341d-d51b-4bfa-a339-8826ce813776",
   "metadata": {},
   "source": [
    "# "
   ]
  },
  {
   "cell_type": "code",
   "execution_count": 15,
   "id": "c02fd82d-83ac-4c08-97b6-615e6d8b44d0",
   "metadata": {},
   "outputs": [],
   "source": [
    "# We want to detect if there was use of IP Address in the domain and we'll create a column called ['use_of_ip'] with numeric values for that.\n",
    "\n",
    "import re\n",
    "\n",
    "def use_of_ip_address(url):\n",
    "    match = re.search('(([01]?\\\\d\\\\d?|2[0-4]\\\\d|25[0-5])\\\\.([01]?\\\\d\\\\d?|2[0-4]\\\\d|25[0-5])\\\\.([01]?\\\\d\\\\d?|2[0-4]\\\\d|25[0-5])\\\\.'\n",
    "        '([01]?\\\\d\\\\d?|2[0-4]\\\\d|25[0-5])\\\\/)|'  # IPv4\n",
    "        '((0x[0-9a-fA-F]{1,2})\\\\.(0x[0-9a-fA-F]{1,2})\\\\.(0x[0-9a-fA-F]{1,2})\\\\.(0x[0-9a-fA-F]{1,2})\\\\/)' # IPv4 in hexadecimal\n",
    "        '(?:[a-fA-F0-9]{1,4}:){7}[a-fA-F0-9]{1,4}', url)  # Ipv6\n",
    "    if match: \n",
    "        return 1\n",
    "    else:\n",
    "        return 0\n",
    "\n",
    "data['use_of_ip'] = data['url'].apply(lambda i: use_of_ip_address(i))"
   ]
  },
  {
   "cell_type": "code",
   "execution_count": 16,
   "id": "eea29fb3-82ff-489f-8c54-c77f07b90294",
   "metadata": {},
   "outputs": [],
   "source": [
    "# We want to find abnormal urls, we define abnormal urls as those urls whose domain names are not present in the urls\n",
    "\n",
    "from urllib.parse import urlparse\n",
    "\n",
    "def abnormal_url(url):\n",
    "    hostname = urlparse(url).hostname\n",
    "    hostname = str(hostname)\n",
    "    match = re.search(hostname, url)\n",
    "    if match:\n",
    "        return 1\n",
    "    else:\n",
    "        return 0\n",
    "\n",
    "data['abnormal_url'] = data['url'].apply(lambda i: abnormal_url(i))"
   ]
  },
  {
   "cell_type": "code",
   "execution_count": 17,
   "id": "80ee49a4-c827-41a5-8b4a-d82c50290e2c",
   "metadata": {},
   "outputs": [
    {
     "name": "stdout",
     "output_type": "stream",
     "text": [
      "Requirement already satisfied: googlesearch-python in /opt/anaconda3/lib/python3.11/site-packages (1.2.3)\n",
      "Requirement already satisfied: beautifulsoup4>=4.9 in /opt/anaconda3/lib/python3.11/site-packages (from googlesearch-python) (4.12.2)\n",
      "Requirement already satisfied: requests>=2.20 in /opt/anaconda3/lib/python3.11/site-packages (from googlesearch-python) (2.31.0)\n",
      "Requirement already satisfied: soupsieve>1.2 in /opt/anaconda3/lib/python3.11/site-packages (from beautifulsoup4>=4.9->googlesearch-python) (2.5)\n",
      "Requirement already satisfied: charset-normalizer<4,>=2 in /opt/anaconda3/lib/python3.11/site-packages (from requests>=2.20->googlesearch-python) (2.0.4)\n",
      "Requirement already satisfied: idna<4,>=2.5 in /opt/anaconda3/lib/python3.11/site-packages (from requests>=2.20->googlesearch-python) (3.4)\n",
      "Requirement already satisfied: urllib3<3,>=1.21.1 in /opt/anaconda3/lib/python3.11/site-packages (from requests>=2.20->googlesearch-python) (2.0.7)\n",
      "Requirement already satisfied: certifi>=2017.4.17 in /opt/anaconda3/lib/python3.11/site-packages (from requests>=2.20->googlesearch-python) (2024.2.2)\n"
     ]
    }
   ],
   "source": [
    "# We want to check if a given URL is indexed by Google.\n",
    "\n",
    "!pip install googlesearch-python\n",
    "\n",
    "from googlesearch import search\n",
    "\n",
    "def google_index(url):\n",
    "    site = search(url, 5)\n",
    "    return 1 if site else 0\n",
    "\n",
    "data['google_index'] = data['url'].apply(lambda i: google_index(i))"
   ]
  },
  {
   "cell_type": "code",
   "execution_count": 18,
   "id": "f71d4d72-f5bc-414e-bc26-1fd32bc87791",
   "metadata": {},
   "outputs": [],
   "source": [
    "# We want to count the nuumber of dots (.) in a url\n",
    "\n",
    "def count_url(url):\n",
    "    count_of_dots = url.count('.')\n",
    "    return count_of_dots \n",
    "\n",
    "data['count_of_dots'] = data['url'].apply(lambda i: count_url(i))"
   ]
  },
  {
   "cell_type": "code",
   "execution_count": 19,
   "id": "7e40b6e8-f1d0-450e-a020-e95e40043faf",
   "metadata": {},
   "outputs": [],
   "source": [
    "# We want to count the number of 'www' in each URL\n",
    "\n",
    "def count_www(url):\n",
    "    url.count('www')\n",
    "    return url.count('www')\n",
    "\n",
    "data['count_www'] = data['url'].apply(lambda i: count_www(i))"
   ]
  },
  {
   "cell_type": "code",
   "execution_count": 20,
   "id": "d0192879-2fa9-4186-b4da-a3a56b03c589",
   "metadata": {},
   "outputs": [],
   "source": [
    "# We want to count the check and count the occurence of '@' in each URL\n",
    "\n",
    "def count_at(url):\n",
    "    return url.count('@')\n",
    "\n",
    "data['count_of_@'] = data['url'].apply(lambda i: count_at(i))"
   ]
  },
  {
   "cell_type": "code",
   "execution_count": 21,
   "id": "95f7c3b4-57de-4197-8ac0-524ab0919569",
   "metadata": {},
   "outputs": [],
   "source": [
    "# We wwant to check the number of directories '/' present in each URL \n",
    "\n",
    "def count_of_dir(url):\n",
    "    count_of_dir = urlparse(url).path\n",
    "    return count_of_dir.count('/')\n",
    "\n",
    "data['count_of_/'] = data['url'].apply(lambda i: count_of_dir(i))"
   ]
  },
  {
   "cell_type": "code",
   "execution_count": 22,
   "id": "404a8d5c-84ee-4840-920e-a00a09814ce1",
   "metadata": {},
   "outputs": [],
   "source": [
    "# We want to count the numeber of embeded domains. Represented by '//'\n",
    "\n",
    "def count_of_domains(url):\n",
    "    count_of_domains = urlparse(url).path\n",
    "    return count_of_domains.count('//')\n",
    "\n",
    "data['count_of_//'] = data['url'].apply(lambda i: count_of_domains(i))"
   ]
  },
  {
   "cell_type": "code",
   "execution_count": 23,
   "id": "b8916d83-a4bf-4ff0-9dea-cb147cedad3c",
   "metadata": {},
   "outputs": [],
   "source": [
    "# We want to check for urls that have been shortened with url shortners \n",
    "\n",
    "def shortening_service(url):\n",
    "    match = re.search('bit\\.ly|goo\\.gl|shorte\\.st|go2l\\.ink|x\\.co|ow\\.ly|t\\.co|tinyurl|tr\\.im|is\\.gd|cli\\.gs|'\n",
    "                      'yfrog\\.com|migre\\.me|ff\\.im|tiny\\.cc|url4\\.eu|twit\\.ac|su\\.pr|twurl\\.nl|snipurl\\.com|'\n",
    "                      'short\\.to|BudURL\\.com|ping\\.fm|post\\.ly|Just\\.as|bkite\\.com|snipr\\.com|fic\\.kr|loopt\\.us|'\n",
    "                      'doiop\\.com|short\\.ie|kl\\.am|wp\\.me|rubyurl\\.com|om\\.ly|to\\.ly|bit\\.do|t\\.co|lnkd\\.in|'\n",
    "                      'db\\.tt|qr\\.ae|adf\\.ly|goo\\.gl|bitly\\.com|cur\\.lv|tinyurl\\.com|ow\\.ly|bit\\.ly|ity\\.im|'\n",
    "                      'q\\.gs|is\\.gd|po\\.st|bc\\.vc|twitthis\\.com|u\\.to|j\\.mp|buzurl\\.com|cutt\\.us|u\\.bb|yourls\\.org|'\n",
    "                      'x\\.co|prettylinkpro\\.com|scrnch\\.me|filoops\\.info|vzturl\\.com|qr\\.net|1url\\.com|tweez\\.me|v\\.gd|'\n",
    "                      'tr\\.im|link\\.zip\\.net',\n",
    "                      url)\n",
    "    if match:\n",
    "        return 1\n",
    "    else:\n",
    "        return 0\n",
    "\n",
    "data['short_url'] = data['url'].apply(lambda i: shortening_service(i))"
   ]
  },
  {
   "cell_type": "code",
   "execution_count": 24,
   "id": "d3b1d3e7-9387-4b0c-99e2-e5df7775ec95",
   "metadata": {},
   "outputs": [],
   "source": [
    "# We want to count the number of 'https' present in each url\n",
    "\n",
    "def count_https(url):\n",
    "    return url.count('https')\n",
    "\n",
    "data['count_https'] = data['url'].apply(lambda i: count_https(i))"
   ]
  },
  {
   "cell_type": "code",
   "execution_count": 25,
   "id": "203ad7c0-c499-4252-a5a2-a2812ba3cc76",
   "metadata": {},
   "outputs": [],
   "source": [
    "# We want to count the number of 'http' oresent in each url\n",
    "\n",
    "def count_http(url):\n",
    "    return url.count('http')\n",
    "\n",
    "data['count_http'] = data['url'].apply(lambda i: count_http(i))"
   ]
  },
  {
   "cell_type": "code",
   "execution_count": 26,
   "id": "8955d0e1-409d-4bd1-a2ed-6ea6cd5bffbe",
   "metadata": {},
   "outputs": [],
   "source": [
    "# We want to count the number of percentage signs '%' in each url\n",
    "\n",
    "def count_per(url):\n",
    "    return url.count('%')\n",
    "\n",
    "data['count_of_%'] = data['url'].apply(lambda i: count_per(i))"
   ]
  },
  {
   "cell_type": "code",
   "execution_count": 27,
   "id": "2301692f-88d5-4965-b3e4-46a9d84ac422",
   "metadata": {},
   "outputs": [],
   "source": [
    "# We want to count the number of question marks '?' in each url \n",
    "\n",
    "def count_ques(url):\n",
    "    return url.count('?')\n",
    "\n",
    "data['count_of_?'] = data['url'].apply(lambda i: count_ques(i))"
   ]
  },
  {
   "cell_type": "code",
   "execution_count": 28,
   "id": "c32751a9-f1d0-403a-86f6-1592d062592a",
   "metadata": {},
   "outputs": [],
   "source": [
    "# We want to count the number of hyphens in each url\n",
    "\n",
    "def count_hyphen(url):\n",
    "    return url.count('-')\n",
    "\n",
    "data['count-'] = data['url'].apply(lambda i: count_hyphen(i))"
   ]
  },
  {
   "cell_type": "code",
   "execution_count": 29,
   "id": "f4901de4-4957-49b4-b159-7965a0c8209e",
   "metadata": {},
   "outputs": [],
   "source": [
    "# We want to count the number of equals '=\" in each url \n",
    "\n",
    "def count_equal(url):\n",
    "    return url.count('=')\n",
    "\n",
    "data['count='] = data['url'].apply(lambda i: count_equal(i))"
   ]
  },
  {
   "cell_type": "code",
   "execution_count": 30,
   "id": "aba90100-c62e-43b2-90d7-f77dfdd8b45b",
   "metadata": {},
   "outputs": [],
   "source": [
    "# We want to count the length of each url\n",
    "\n",
    "def count_length(url):\n",
    "    return len(str(url))\n",
    "\n",
    "data['count_of_length'] = data['url'].apply(lambda i: count_length(i))"
   ]
  },
  {
   "cell_type": "code",
   "execution_count": 31,
   "id": "2774f982-30f2-468a-b61e-d2e8fc320005",
   "metadata": {},
   "outputs": [],
   "source": [
    "# We want to check the length of the hostname/network location in each url\n",
    "\n",
    "def hostname_length(url):\n",
    "    return len(urlparse(url).netloc)\n",
    "\n",
    "data['hostname_length'] = data['url'].apply(lambda i: hostname_length(i))"
   ]
  },
  {
   "cell_type": "code",
   "execution_count": 32,
   "id": "cb14f22c-0108-4a21-a7a3-68ef376be107",
   "metadata": {},
   "outputs": [],
   "source": [
    "# We want to check for suspicious words in each url\n",
    "\n",
    "def suspicious_words(url):\n",
    "    match = re.search('PayPal|login|signin|bank|account|update|free|lucky|service|bonus|ebayisapi|webscr',\n",
    "                      url)\n",
    "    if match: \n",
    "        return 1\n",
    "    else:\n",
    "        return 0\n",
    "\n",
    "data['susp_words'] = data['url'].apply(lambda i: suspicious_words(i))"
   ]
  },
  {
   "cell_type": "code",
   "execution_count": 33,
   "id": "81df6079-33b7-4cbe-b160-ca24fad4ef38",
   "metadata": {},
   "outputs": [],
   "source": [
    "# We want to count the number of digits in each url\n",
    "\n",
    "def count_digits(url):\n",
    "    digits = 0\n",
    "    for i in url:\n",
    "        if i.isnumeric():\n",
    "            digits = digits + 1\n",
    "        return digits\n",
    "\n",
    "data['count_of_digits'] = data['url'].apply(lambda i: count_digits(i))"
   ]
  },
  {
   "cell_type": "code",
   "execution_count": 34,
   "id": "56fdc62c-688c-44c4-88cf-b63ff3c63655",
   "metadata": {},
   "outputs": [],
   "source": [
    "# We want to count the number of alphabets/letters in each url\n",
    "\n",
    "def count_alphabets(url):\n",
    "    alphabets = 0\n",
    "    for i in url:\n",
    "        if i.isalpha():\n",
    "            alphabets = alphabets + 1\n",
    "        return alphabets\n",
    "\n",
    "data['count_of_alphabets'] = data['url'].apply(lambda i: count_alphabets(i))"
   ]
  },
  {
   "cell_type": "code",
   "execution_count": 35,
   "id": "0d2f19e2-8e52-4758-8935-12d03b240d6b",
   "metadata": {},
   "outputs": [
    {
     "name": "stdout",
     "output_type": "stream",
     "text": [
      "Requirement already satisfied: tld in /opt/anaconda3/lib/python3.11/site-packages (0.13)\n"
     ]
    }
   ],
   "source": [
    "# We want to get the length of the first directory\n",
    "\n",
    "!pip install tld \n",
    "\n",
    "from urllib.parse import urlparse\n",
    "from tld import get_tld\n",
    "import os.path \n",
    "\n",
    "def length_fd(url):\n",
    "    url_directory = urlparse(url).path\n",
    "    try:\n",
    "        return len(url_directory.split('/')[1])\n",
    "    except:\n",
    "        return 0\n",
    "\n",
    "data['length_of_fd'] = data['url'].apply(lambda i: length_fd(i))"
   ]
  },
  {
   "cell_type": "code",
   "execution_count": 36,
   "id": "b2b087a6-1123-4ca1-a34a-7fb305fb5b81",
   "metadata": {},
   "outputs": [],
   "source": [
    "# We want to find the length of the top level domain\n",
    "\n",
    "data['tld'] = data['url'].apply(lambda i: get_tld(i, fail_silently=True))\n",
    "\n",
    "def tld_length(tld):\n",
    "    try:\n",
    "        return len(tld)\n",
    "    except:\n",
    "        return -1\n",
    "\n",
    "data['tld_length'] = data['tld'].apply(lambda i: tld_length(i))"
   ]
  },
  {
   "cell_type": "code",
   "execution_count": 37,
   "id": "46c2668f-4eb3-4566-8401-273f5c1b5706",
   "metadata": {},
   "outputs": [],
   "source": [
    "data = data.drop('tld', axis=1)"
   ]
  },
  {
   "cell_type": "code",
   "execution_count": 38,
   "id": "8bb15bcd-3c85-4558-b900-17fb5f9431f2",
   "metadata": {},
   "outputs": [],
   "source": [
    "# data.head()"
   ]
  },
  {
   "cell_type": "markdown",
   "id": "5c7e100b-b784-415d-9df2-d09986fb153a",
   "metadata": {},
   "source": [
    "#"
   ]
  },
  {
   "cell_type": "markdown",
   "id": "86803c8a-e5a7-41fd-bcf5-1f5ef8af446b",
   "metadata": {},
   "source": [
    "# Exploratory Data Analysis"
   ]
  },
  {
   "cell_type": "markdown",
   "id": "cc450b25-fca4-4b29-a8c1-a2e68f459fe2",
   "metadata": {},
   "source": [
    "# "
   ]
  },
  {
   "cell_type": "code",
   "execution_count": 39,
   "id": "4cbda49b-64ae-4cb3-ba3d-489a6f3cfadc",
   "metadata": {},
   "outputs": [],
   "source": [
    "# In this section we will explore visual representations of some data points so as to have a high level idea of what is going on in our data"
   ]
  },
  {
   "cell_type": "code",
   "execution_count": 40,
   "id": "e9bba97e-56a1-45d9-92df-8252824b5a51",
   "metadata": {},
   "outputs": [
    {
     "data": {
      "text/plain": [
       "Index(['url', 'type', 'use_of_ip', 'abnormal_url', 'google_index',\n",
       "       'count_of_dots', 'count_www', 'count_of_@', 'count_of_/', 'count_of_//',\n",
       "       'short_url', 'count_https', 'count_http', 'count_of_%', 'count_of_?',\n",
       "       'count-', 'count=', 'count_of_length', 'hostname_length', 'susp_words',\n",
       "       'count_of_digits', 'count_of_alphabets', 'length_of_fd', 'tld_length'],\n",
       "      dtype='object')"
      ]
     },
     "execution_count": 40,
     "metadata": {},
     "output_type": "execute_result"
    }
   ],
   "source": [
    "data.columns"
   ]
  },
  {
   "cell_type": "markdown",
   "id": "4f5ec61e-7fe3-4e55-811d-6b59178e4681",
   "metadata": {},
   "source": [
    "# 1. Distribution of 'use_of_ip'"
   ]
  },
  {
   "cell_type": "code",
   "execution_count": 41,
   "id": "033abe1c-3c52-4f42-9cf8-f9884fd030d1",
   "metadata": {},
   "outputs": [],
   "source": [
    "# import seaborn as sns\n",
    "# sns.set(style=\"darkgrid\")\n",
    "# ax = sns.countplot(y='type', data=data, hue='use_of_ip')"
   ]
  },
  {
   "cell_type": "markdown",
   "id": "05551645-9956-4931-9334-85f238182cad",
   "metadata": {},
   "source": [
    "# 2. Distribution of 'abnormal_url'"
   ]
  },
  {
   "cell_type": "code",
   "execution_count": 42,
   "id": "da3b9ddb-ccfa-46a6-891d-dba303ce248e",
   "metadata": {},
   "outputs": [],
   "source": [
    "# sns.set(style=\"darkgrid\")\n",
    "# ax = sns.countplot(y='type', data=data, hue='abnormal_url')"
   ]
  },
  {
   "cell_type": "markdown",
   "id": "91a19246-2ebf-41c1-b685-9cb16e4fe65d",
   "metadata": {},
   "source": [
    "# 3. Distribution of Google Index"
   ]
  },
  {
   "cell_type": "code",
   "execution_count": 43,
   "id": "28e3c532-6a5b-42da-8b91-61386bf9b8c0",
   "metadata": {},
   "outputs": [],
   "source": [
    "# sns.set(style=\"darkgrid\")\n",
    "# ax = sns.countplot(y=\"type\", data=data,hue=\"google_index\")"
   ]
  },
  {
   "cell_type": "markdown",
   "id": "ead8d510-fea2-4879-9abb-4888fd537634",
   "metadata": {},
   "source": [
    "# 4. Distribution of 'short_url'"
   ]
  },
  {
   "cell_type": "code",
   "execution_count": 44,
   "id": "1d9a4656-7f92-4238-bab0-c5d59890fa70",
   "metadata": {},
   "outputs": [],
   "source": [
    "# sns.set(style=\"darkgrid\")\n",
    "# ax = sns.countplot(y=\"type\", data=data,hue=\"short_url\")"
   ]
  },
  {
   "cell_type": "markdown",
   "id": "3d6e0c31-56f4-4a2a-a24f-b821ffcce2cb",
   "metadata": {},
   "source": [
    "# 5. Distribution of 'susp_words'"
   ]
  },
  {
   "cell_type": "code",
   "execution_count": 45,
   "id": "a33b7786-096e-4e39-8c1e-986d877b20a7",
   "metadata": {},
   "outputs": [],
   "source": [
    "# sns.set(style=\"darkgrid\")\n",
    "# ax = sns.countplot(y=\"type\", data=data,hue=\"susp_words\")"
   ]
  },
  {
   "cell_type": "markdown",
   "id": "1731418f-242b-4f82-8e6b-a1918c30da15",
   "metadata": {},
   "source": [
    "# 6. Distribution of 'count_of_dots'"
   ]
  },
  {
   "cell_type": "code",
   "execution_count": 46,
   "id": "51c5dfb2-355f-4308-a51a-7b2dc1e61a53",
   "metadata": {},
   "outputs": [],
   "source": [
    "# sns.set(style=\"darkgrid\")\n",
    "# sns.catplot(x=\"type\", y=\"count_of_dots\", kind=\"box\", data=data)"
   ]
  },
  {
   "cell_type": "markdown",
   "id": "69069942-006b-496d-b7b4-8b9bd1b56c79",
   "metadata": {},
   "source": [
    "# 7. Distribution of 'count_www'"
   ]
  },
  {
   "cell_type": "code",
   "execution_count": 47,
   "id": "2b45a989-b378-4517-b38d-fc058ba73141",
   "metadata": {},
   "outputs": [],
   "source": [
    "# sns.set(style=\"darkgrid\")\n",
    "# sns.catplot(x=\"type\", y=\"count_www\", kind=\"box\", data=data)"
   ]
  },
  {
   "cell_type": "markdown",
   "id": "981664de-2051-49c6-a71e-781b22f8d164",
   "metadata": {},
   "source": [
    "# 8. Distribution of 'count_of_@'"
   ]
  },
  {
   "cell_type": "code",
   "execution_count": 48,
   "id": "7d22c119-38d5-42b5-be00-fda3c905f919",
   "metadata": {},
   "outputs": [],
   "source": [
    "# sns.set(style=\"darkgrid\")\n",
    "# sns.catplot(x=\"type\", y=\"count_of_@\", kind=\"box\", data=data)"
   ]
  },
  {
   "cell_type": "markdown",
   "id": "5ab8d393-9ee7-43b6-94ff-bfef99c4bb6c",
   "metadata": {},
   "source": [
    "# 9. Distribution of 'count_of_/'"
   ]
  },
  {
   "cell_type": "code",
   "execution_count": 49,
   "id": "0dc32406-a3d2-46c1-9ea6-4f2fac2226fb",
   "metadata": {},
   "outputs": [],
   "source": [
    "# sns.set(style=\"darkgrid\")\n",
    "# sns.catplot(x=\"type\", y=\"count_of_/\", kind=\"box\", data=data)"
   ]
  },
  {
   "cell_type": "markdown",
   "id": "33dc08d8-b7b4-48bb-b8ae-dbfd5e754ced",
   "metadata": {},
   "source": [
    "# Distribution of 'tld_length'"
   ]
  },
  {
   "cell_type": "code",
   "execution_count": 50,
   "id": "589bcbc0-9dbc-4759-b4df-3058121cef5f",
   "metadata": {},
   "outputs": [],
   "source": [
    "# sns.set(style=\"darkgrid\")\n",
    "# sns.catplot(x=\"type\", y=\"tld_length\", kind=\"box\", data=data)"
   ]
  },
  {
   "cell_type": "markdown",
   "id": "c2693e92-112b-4289-a853-f5ab9dafd482",
   "metadata": {},
   "source": [
    "#"
   ]
  },
  {
   "cell_type": "markdown",
   "id": "a1199048-ef72-43f5-bd24-34c6e57ff432",
   "metadata": {},
   "source": [
    "# Feature engineering"
   ]
  },
  {
   "cell_type": "markdown",
   "id": "21f7f71a-9ff1-480e-a3d3-4a0bfedab16f",
   "metadata": {},
   "source": [
    "#"
   ]
  },
  {
   "cell_type": "code",
   "execution_count": 51,
   "id": "da727136-0987-44bb-93d8-c570e29fdbd5",
   "metadata": {},
   "outputs": [
    {
     "data": {
      "text/plain": [
       "type_code\n",
       "0    428103\n",
       "1     96457\n",
       "3     94111\n",
       "2     32520\n",
       "Name: count, dtype: int64"
      ]
     },
     "execution_count": 51,
     "metadata": {},
     "output_type": "execute_result"
    }
   ],
   "source": [
    "from sklearn.preprocessing import LabelEncoder\n",
    "\n",
    "le = LabelEncoder()\n",
    "data['type_code'] = le.fit_transform(data['type'])\n",
    "data['type_code'].value_counts()"
   ]
  },
  {
   "cell_type": "code",
   "execution_count": 52,
   "id": "ebd0c749-04b9-4025-8856-f922e17672e1",
   "metadata": {},
   "outputs": [],
   "source": [
    "# Creation of Feature & Target\n",
    "#Predictor Variables\n",
    "# filtering out google_index as it has only 1 value\n",
    "\n",
    "X = data[['use_of_ip', 'abnormal_url', 'count_of_dots', 'count_www', 'count_of_@', 'count_of_/', 'count_of_//',\n",
    "       'short_url', 'count_https', 'count_http', 'count_of_%', 'count_of_?',\n",
    "       'count-', 'count=', 'count_of_length', 'hostname_length', 'susp_words',\n",
    "       'count_of_digits', 'count_of_alphabets', 'length_of_fd', 'tld_length']]\n",
    "\n",
    "# Target Variable\n",
    "y = data[\"type_code\"]"
   ]
  },
  {
   "cell_type": "code",
   "execution_count": 53,
   "id": "44680195-d7ad-4ea9-b20c-724c93d34107",
   "metadata": {},
   "outputs": [
    {
     "data": {
      "text/html": [
       "<div>\n",
       "<style scoped>\n",
       "    .dataframe tbody tr th:only-of-type {\n",
       "        vertical-align: middle;\n",
       "    }\n",
       "\n",
       "    .dataframe tbody tr th {\n",
       "        vertical-align: top;\n",
       "    }\n",
       "\n",
       "    .dataframe thead th {\n",
       "        text-align: right;\n",
       "    }\n",
       "</style>\n",
       "<table border=\"1\" class=\"dataframe\">\n",
       "  <thead>\n",
       "    <tr style=\"text-align: right;\">\n",
       "      <th></th>\n",
       "      <th>use_of_ip</th>\n",
       "      <th>abnormal_url</th>\n",
       "      <th>count_of_dots</th>\n",
       "      <th>count_www</th>\n",
       "      <th>count_of_@</th>\n",
       "      <th>count_of_/</th>\n",
       "      <th>count_of_//</th>\n",
       "      <th>short_url</th>\n",
       "      <th>count_https</th>\n",
       "      <th>count_http</th>\n",
       "      <th>...</th>\n",
       "      <th>count_of_?</th>\n",
       "      <th>count-</th>\n",
       "      <th>count=</th>\n",
       "      <th>count_of_length</th>\n",
       "      <th>hostname_length</th>\n",
       "      <th>susp_words</th>\n",
       "      <th>count_of_digits</th>\n",
       "      <th>count_of_alphabets</th>\n",
       "      <th>length_of_fd</th>\n",
       "      <th>tld_length</th>\n",
       "    </tr>\n",
       "  </thead>\n",
       "  <tbody>\n",
       "    <tr>\n",
       "      <th>0</th>\n",
       "      <td>0</td>\n",
       "      <td>0</td>\n",
       "      <td>2</td>\n",
       "      <td>0</td>\n",
       "      <td>0</td>\n",
       "      <td>0</td>\n",
       "      <td>0</td>\n",
       "      <td>0</td>\n",
       "      <td>0</td>\n",
       "      <td>0</td>\n",
       "      <td>...</td>\n",
       "      <td>0</td>\n",
       "      <td>1</td>\n",
       "      <td>0</td>\n",
       "      <td>16</td>\n",
       "      <td>0</td>\n",
       "      <td>0</td>\n",
       "      <td>0</td>\n",
       "      <td>1</td>\n",
       "      <td>0</td>\n",
       "      <td>-1</td>\n",
       "    </tr>\n",
       "    <tr>\n",
       "      <th>1</th>\n",
       "      <td>0</td>\n",
       "      <td>0</td>\n",
       "      <td>2</td>\n",
       "      <td>0</td>\n",
       "      <td>0</td>\n",
       "      <td>2</td>\n",
       "      <td>0</td>\n",
       "      <td>0</td>\n",
       "      <td>0</td>\n",
       "      <td>0</td>\n",
       "      <td>...</td>\n",
       "      <td>0</td>\n",
       "      <td>0</td>\n",
       "      <td>0</td>\n",
       "      <td>35</td>\n",
       "      <td>0</td>\n",
       "      <td>0</td>\n",
       "      <td>0</td>\n",
       "      <td>1</td>\n",
       "      <td>5</td>\n",
       "      <td>-1</td>\n",
       "    </tr>\n",
       "    <tr>\n",
       "      <th>2</th>\n",
       "      <td>0</td>\n",
       "      <td>0</td>\n",
       "      <td>2</td>\n",
       "      <td>0</td>\n",
       "      <td>0</td>\n",
       "      <td>3</td>\n",
       "      <td>0</td>\n",
       "      <td>0</td>\n",
       "      <td>0</td>\n",
       "      <td>0</td>\n",
       "      <td>...</td>\n",
       "      <td>0</td>\n",
       "      <td>0</td>\n",
       "      <td>0</td>\n",
       "      <td>31</td>\n",
       "      <td>0</td>\n",
       "      <td>0</td>\n",
       "      <td>0</td>\n",
       "      <td>1</td>\n",
       "      <td>7</td>\n",
       "      <td>-1</td>\n",
       "    </tr>\n",
       "    <tr>\n",
       "      <th>3</th>\n",
       "      <td>0</td>\n",
       "      <td>1</td>\n",
       "      <td>3</td>\n",
       "      <td>1</td>\n",
       "      <td>0</td>\n",
       "      <td>1</td>\n",
       "      <td>0</td>\n",
       "      <td>0</td>\n",
       "      <td>0</td>\n",
       "      <td>1</td>\n",
       "      <td>...</td>\n",
       "      <td>1</td>\n",
       "      <td>1</td>\n",
       "      <td>4</td>\n",
       "      <td>88</td>\n",
       "      <td>21</td>\n",
       "      <td>0</td>\n",
       "      <td>0</td>\n",
       "      <td>1</td>\n",
       "      <td>9</td>\n",
       "      <td>2</td>\n",
       "    </tr>\n",
       "    <tr>\n",
       "      <th>4</th>\n",
       "      <td>0</td>\n",
       "      <td>1</td>\n",
       "      <td>2</td>\n",
       "      <td>0</td>\n",
       "      <td>0</td>\n",
       "      <td>1</td>\n",
       "      <td>0</td>\n",
       "      <td>0</td>\n",
       "      <td>0</td>\n",
       "      <td>1</td>\n",
       "      <td>...</td>\n",
       "      <td>1</td>\n",
       "      <td>1</td>\n",
       "      <td>3</td>\n",
       "      <td>235</td>\n",
       "      <td>23</td>\n",
       "      <td>0</td>\n",
       "      <td>0</td>\n",
       "      <td>1</td>\n",
       "      <td>9</td>\n",
       "      <td>3</td>\n",
       "    </tr>\n",
       "  </tbody>\n",
       "</table>\n",
       "<p>5 rows × 21 columns</p>\n",
       "</div>"
      ],
      "text/plain": [
       "   use_of_ip  abnormal_url  count_of_dots  count_www  count_of_@  count_of_/  \\\n",
       "0          0             0              2          0           0           0   \n",
       "1          0             0              2          0           0           2   \n",
       "2          0             0              2          0           0           3   \n",
       "3          0             1              3          1           0           1   \n",
       "4          0             1              2          0           0           1   \n",
       "\n",
       "   count_of_//  short_url  count_https  count_http  ...  count_of_?  count-  \\\n",
       "0            0          0            0           0  ...           0       1   \n",
       "1            0          0            0           0  ...           0       0   \n",
       "2            0          0            0           0  ...           0       0   \n",
       "3            0          0            0           1  ...           1       1   \n",
       "4            0          0            0           1  ...           1       1   \n",
       "\n",
       "   count=  count_of_length  hostname_length  susp_words  count_of_digits  \\\n",
       "0       0               16                0           0                0   \n",
       "1       0               35                0           0                0   \n",
       "2       0               31                0           0                0   \n",
       "3       4               88               21           0                0   \n",
       "4       3              235               23           0                0   \n",
       "\n",
       "   count_of_alphabets  length_of_fd  tld_length  \n",
       "0                   1             0          -1  \n",
       "1                   1             5          -1  \n",
       "2                   1             7          -1  \n",
       "3                   1             9           2  \n",
       "4                   1             9           3  \n",
       "\n",
       "[5 rows x 21 columns]"
      ]
     },
     "execution_count": 53,
     "metadata": {},
     "output_type": "execute_result"
    }
   ],
   "source": [
    "X.head()"
   ]
  },
  {
   "cell_type": "code",
   "execution_count": 54,
   "id": "51a59dbd-96a1-4d27-ad6d-0dd1e5d70e18",
   "metadata": {},
   "outputs": [
    {
     "data": {
      "text/plain": [
       "Index(['use_of_ip', 'abnormal_url', 'count_of_dots', 'count_www', 'count_of_@',\n",
       "       'count_of_/', 'count_of_//', 'short_url', 'count_https', 'count_http',\n",
       "       'count_of_%', 'count_of_?', 'count-', 'count=', 'count_of_length',\n",
       "       'hostname_length', 'susp_words', 'count_of_digits',\n",
       "       'count_of_alphabets', 'length_of_fd', 'tld_length'],\n",
       "      dtype='object')"
      ]
     },
     "execution_count": 54,
     "metadata": {},
     "output_type": "execute_result"
    }
   ],
   "source": [
    "X.columns"
   ]
  },
  {
   "cell_type": "markdown",
   "id": "7b9f4103-3b87-40c0-9129-543181f33e11",
   "metadata": {},
   "source": [
    "# "
   ]
  },
  {
   "cell_type": "markdown",
   "id": "8cb8e675-441c-49d1-9ffe-8a2a426e50d2",
   "metadata": {},
   "source": [
    "# Train Test Split"
   ]
  },
  {
   "cell_type": "markdown",
   "id": "f13e2e00-ad10-4185-a180-9aee86ce030d",
   "metadata": {},
   "source": [
    "#"
   ]
  },
  {
   "cell_type": "code",
   "execution_count": 55,
   "id": "fca4dd67-3ef1-4de1-9726-9ed8afb80b0b",
   "metadata": {},
   "outputs": [],
   "source": [
    "X_train, X_test, y_train, y_test = train_test_split(X, y, stratify=y, test_size=0.2, shuffle=True, random_state=5)"
   ]
  },
  {
   "cell_type": "markdown",
   "id": "0b48c2a9-3610-43f0-ac28-65f0b1900d34",
   "metadata": {},
   "source": [
    "#"
   ]
  },
  {
   "cell_type": "markdown",
   "id": "2b80750f-9ac9-4128-8485-744a7c2485a8",
   "metadata": {},
   "source": [
    "# Model Building "
   ]
  },
  {
   "cell_type": "markdown",
   "id": "59cddd06-1e2c-4e8e-aa23-968f29316eac",
   "metadata": {},
   "source": [
    "#"
   ]
  },
  {
   "cell_type": "markdown",
   "id": "ca637bd7-a543-497c-979f-133f8411f5ae",
   "metadata": {},
   "source": [
    "### 1. Random Forest Classifier"
   ]
  },
  {
   "cell_type": "code",
   "execution_count": 106,
   "id": "cb71ef90-73ca-4aab-9296-3defd5add950",
   "metadata": {},
   "outputs": [
    {
     "name": "stdout",
     "output_type": "stream",
     "text": [
      "              precision    recall  f1-score   support\n",
      "\n",
      "      benign       0.97      0.98      0.98     85621\n",
      "  defacement       0.98      0.99      0.98     19292\n",
      "    phishing       0.98      0.94      0.96      6504\n",
      "     malware       0.90      0.85      0.87     18822\n",
      "\n",
      "    accuracy                           0.96    130239\n",
      "   macro avg       0.96      0.94      0.95    130239\n",
      "weighted avg       0.96      0.96      0.96    130239\n",
      "\n",
      "accuracy:   0.963\n",
      "Precision:   0.963\n",
      "F1 Score:    0.963\n"
     ]
    }
   ],
   "source": [
    "from sklearn import metrics\n",
    "from sklearn.model_selection import train_test_split\n",
    "from sklearn.ensemble import RandomForestClassifier\n",
    "rf = RandomForestClassifier(n_estimators=100, max_features='sqrt')\n",
    "rf.fit(X_train, y_train)\n",
    "\n",
    "import pickle\n",
    "pickle.dump(rf, open('model.pkl','wb'))\n",
    "\n",
    "y_pred_rf = rf.predict(X_test)\n",
    "print(classification_report(y_test, y_pred_rf, target_names=['benign', 'defacement', 'phishing', 'malware']))\n",
    "\n",
    "score = metrics.accuracy_score(y_test, y_pred_rf)\n",
    "precision = metrics.precision_score(y_test, y_pred_rf, average='weighted')\n",
    "f1 = metrics.f1_score(y_test, y_pred_rf, average='weighted')\n",
    "print(\"accuracy:   %0.3f\" % score)\n",
    "print(\"Precision:   %0.3f\" % precision)\n",
    "print(\"F1 Score:    %0.3f\" % f1)"
   ]
  },
  {
   "cell_type": "code",
   "execution_count": 57,
   "id": "4e6a8dd1-9df2-4d58-8a7d-90a24c91c52f",
   "metadata": {},
   "outputs": [
    {
     "data": {
      "image/png": "[encoded data removed]",
      "text/plain": [
       "<Figure size 800x600 with 2 Axes>"
      ]
     },
     "metadata": {},
     "output_type": "display_data"
    }
   ],
   "source": [
    "cm = confusion_matrix(y_test, y_pred_rf)\n",
    "cm_df = pd.DataFrame(cm,\n",
    "                     index = ['benign', 'defacement','phishing','malware'], \n",
    "                     columns = ['benign', 'defacement','phishing','malware'])\n",
    "plt.figure(figsize=(8,6))\n",
    "sns.heatmap(cm_df, annot=True,fmt=\".1f\")\n",
    "plt.title('Confusion Matrix')\n",
    "plt.ylabel('Actal Values')\n",
    "plt.xlabel('Predicted Values')\n",
    "plt.show()"
   ]
  },
  {
   "cell_type": "code",
   "execution_count": 58,
   "id": "248e2d90-aab2-4c9f-929e-171a4adfe6cc",
   "metadata": {},
   "outputs": [
    {
     "data": {
      "text/plain": [
       "<Axes: >"
      ]
     },
     "execution_count": 58,
     "metadata": {},
     "output_type": "execute_result"
    },
    {
     "data": {
      "image/png": "[encoded data removed]",
      "text/plain": [
       "<Figure size 1000x600 with 1 Axes>"
      ]
     },
     "metadata": {},
     "output_type": "display_data"
    }
   ],
   "source": [
    "feat_importances = pd.Series(rf.feature_importances_, index=X_train.columns)\n",
    "feat_importances.sort_values().plot(kind=\"barh\",figsize=(10, 6))"
   ]
  },
  {
   "cell_type": "markdown",
   "id": "27395ed9-5eab-447f-ad2c-0aecdba8cda6",
   "metadata": {},
   "source": [
    "### 2. Light GBM Classifier "
   ]
  },
  {
   "cell_type": "code",
   "execution_count": 59,
   "id": "e31a4896-b3a9-4cd4-993a-28e4e659f101",
   "metadata": {},
   "outputs": [],
   "source": [
    "# from lightgbm import LGBMClassifier\n",
    "# lgb = LGBMClassifier(objective='multiclass',boosting_type= 'gbdt',n_jobs = 5, \n",
    "#           silent = True, random_state=5)\n",
    "# LGB_C = lgb.fit(X_train, y_train)\n",
    "# y_pred_lgb = LGB_C.predict(X_test)\n",
    "# print(classification_report(y_test,y_pred_lgb,target_names=['benign', 'defacement','phishing','malware']))\n",
    "\n",
    "# score = metrics.accuracy_score(y_test, y_pred_lgb)\n",
    "# precision = precision_score(y_test, y_pred_rf, average='weighted')\n",
    "# f1 = f1_score(y_test, y_pred_rf, average='weighted')\n",
    "# print(\"accuracy:   %0.3f\" % score)\n",
    "# print(\"Precision:   %0.3f\" % precision)\n",
    "# print(\"F1 Score:    %0.3f\" % f1)\n",
    "\n"
   ]
  },
  {
   "cell_type": "code",
   "execution_count": 60,
   "id": "4045a1cd-4d8f-43ed-ad41-d0b2a1e084ba",
   "metadata": {},
   "outputs": [],
   "source": [
    "# cm = confusion_matrix(y_test, y_pred_lgb)\n",
    "# cm_df = pd.DataFrame(cm,\n",
    "#                      index = ['benign', 'defacement','phishing','malware'], \n",
    "#                      columns = ['benign', 'defacement','phishing','malware'])\n",
    "# plt.figure(figsize=(8,6))\n",
    "# sns.heatmap(cm_df, annot=True,fmt=\".1f\")\n",
    "# plt.title('Confusion Matrix')\n",
    "# plt.ylabel('Actal Values')\n",
    "# plt.xlabel('Predicted Values')\n",
    "# plt.show()"
   ]
  },
  {
   "cell_type": "code",
   "execution_count": 61,
   "id": "dbed901a-2176-4bdf-badc-7f35c34cd5c6",
   "metadata": {},
   "outputs": [],
   "source": [
    "# feat_importances = pd.Series(lgb.feature_importances_, index=X_train.columns)\n",
    "# feat_importances.sort_values().plot(kind=\"barh\",figsize=(10, 6))"
   ]
  },
  {
   "cell_type": "markdown",
   "id": "5e69bb8c-ebc6-451f-9be3-83ac387f5e66",
   "metadata": {},
   "source": [
    "# 3. XGboost Classifier"
   ]
  },
  {
   "cell_type": "code",
   "execution_count": 62,
   "id": "b4aeca28-1419-4267-8b78-b177f05559d4",
   "metadata": {},
   "outputs": [],
   "source": [
    "# xgb_c = xgb.XGBClassifier(n_estimators= 100)\n",
    "# xgb_c.fit(X_train,y_train)\n",
    "# y_pred_x = xgb_c.predict(X_test)\n",
    "# print(classification_report(y_test,y_pred_x,target_names=['benign', 'defacement','phishing','malware']))\n",
    "\n",
    "\n",
    "# score = metrics.accuracy_score(y_test, y_pred_x)\n",
    "# precision = metrics.precision_score(y_test, y_pred_rf, average='weighted')\n",
    "# f1 = metrics.f1_score(y_test, y_pred_rf, average='weighted')\n",
    "# print(\"accuracy:   %0.3f\" % score)\n",
    "# print(\"Precision:   %0.3f\" % precision)\n",
    "# print(\"F1 Score:    %0.3f\" % f1)"
   ]
  },
  {
   "cell_type": "code",
   "execution_count": 63,
   "id": "52b0809a-74a6-4cdc-b048-6c1e9f336873",
   "metadata": {},
   "outputs": [],
   "source": [
    "# feat_importances = pd.Series(xgb_c.feature_importances_, index=X_train.columns)\n",
    "# feat_importances.sort_values().plot(kind=\"barh\",figsize=(10, 6))"
   ]
  },
  {
   "cell_type": "markdown",
   "id": "b8783910-125a-41ad-babd-49167556c4bf",
   "metadata": {},
   "source": [
    "# Prediction"
   ]
  },
  {
   "cell_type": "code",
   "execution_count": 64,
   "id": "33ba1361-e82d-4c1e-94a2-e1be4a022fc3",
   "metadata": {},
   "outputs": [],
   "source": [
    "def main(url):\n",
    "    \n",
    "    status = []\n",
    "    \n",
    "    status.append(use_of_ip_address(url))\n",
    "    status.append(abnormal_url(url))\n",
    "    status.append(count_url(url))\n",
    "    status.append(count_www(url))\n",
    "    status.append(count_at(url))\n",
    "    status.append(count_of_dir(url))\n",
    "    status.append(count_of_domains(url))\n",
    "    \n",
    "    status.append(shortening_service(url))\n",
    "    status.append(count_https(url))\n",
    "    status.append(count_http(url))\n",
    "    \n",
    "    status.append(count_per(url))\n",
    "    status.append(count_ques(url))\n",
    "    status.append(count_hyphen(url))\n",
    "    status.append(count_equal(url))\n",
    "    \n",
    "    status.append(count_length(url))\n",
    "    status.append(hostname_length(url))\n",
    "    status.append(suspicious_words(url))\n",
    "    status.append(count_digits(url))\n",
    "    status.append(count_alphabets(url))\n",
    "    status.append(length_fd(url))\n",
    "    tld = get_tld(url,fail_silently=True)\n",
    "      \n",
    "    status.append(tld_length(tld))\n",
    "    \n",
    "    \n",
    "    \n",
    "\n",
    "    return status"
   ]
  },
  {
   "cell_type": "code",
   "execution_count": 65,
   "id": "17ba81b8-f958-40a0-abea-61d2b7e69a78",
   "metadata": {},
   "outputs": [],
   "source": [
    "def get_prediction_from_url(test_url):\n",
    "    features_test = main(test_url)\n",
    "    # Due to updates to scikit-learn, we now need a 2D array as a parameter to the predict function.\n",
    "    features_test = np.array(features_test).reshape((1, -1))\n",
    "\n",
    "    \n",
    "\n",
    "    pred = rf.predict(features_test)\n",
    "    if int(pred[0]) == 0:\n",
    "        \n",
    "        res=\"SAFE\"\n",
    "        return res\n",
    "    elif int(pred[0]) == 1.0:\n",
    "        \n",
    "        res=\"DEFACEMENT\"\n",
    "        return res\n",
    "    elif int(pred[0]) == 2.0:\n",
    "        res=\"PHISHING\"\n",
    "        return res\n",
    "        \n",
    "    elif int(pred[0]) == 3.0:\n",
    "        \n",
    "        res=\"MALWARE\"\n",
    "        return res"
   ]
  },
  {
   "cell_type": "code",
   "execution_count": 100,
   "id": "7c1e768d-4c23-4f98-8c6b-f6d6880408d1",
   "metadata": {},
   "outputs": [],
   "source": [
    "# urls = ['titaniumcorporate.co.za','en.wikipedia.org/wiki/North_Dakota']\n",
    "# for url in urls:\n",
    "#      print(get_prediction_from_url(url))"
   ]
  },
  {
   "cell_type": "code",
   "execution_count": 103,
   "id": "8388f684-bef7-4519-abfa-278b9c1fd5fe",
   "metadata": {},
   "outputs": [],
   "source": [
    "# import pickle\n",
    "# pickle.dump(rf, open('model.pkl','wb'))"
   ]
  },
  {
   "cell_type": "code",
   "execution_count": 72,
   "id": "4b971dce-d93b-4786-b4cf-eddbe9b38d01",
   "metadata": {},
   "outputs": [],
   "source": [
    "# mod = pickle.load(open('model.pkl', 'rb'))"
   ]
  },
  {
   "cell_type": "code",
   "execution_count": 69,
   "id": "7d7eeb33-462d-419b-998f-107d5fc8e4b3",
   "metadata": {},
   "outputs": [
    {
     "name": "stderr",
     "output_type": "stream",
     "text": [
      "/opt/anaconda3/lib/python3.11/site-packages/sklearn/base.py:439: UserWarning: X does not have valid feature names, but RandomForestClassifier was fitted with feature names\n",
      "  warnings.warn(\n"
     ]
    },
    {
     "data": {
      "text/plain": [
       "'SAFE'"
      ]
     },
     "execution_count": 69,
     "metadata": {},
     "output_type": "execute_result"
    }
   ],
   "source": [
    "# mod('en.wikipedia.org/wiki/North_Dakota')"
   ]
  },
  {
   "cell_type": "code",
   "execution_count": 83,
   "id": "be3478ee-9bb4-4008-84e7-86335893c032",
   "metadata": {},
   "outputs": [],
   "source": [
    "# m = 'titaniumcorporate.co.za'\n",
    "# print(model(m))"
   ]
  },
  {
   "cell_type": "code",
   "execution_count": 88,
   "id": "97a0dd42",
   "metadata": {},
   "outputs": [
    {
     "data": {
      "text/plain": [
       "<function __main__.get_prediction_from_url(test_url)>"
      ]
     },
     "execution_count": 88,
     "metadata": {},
     "output_type": "execute_result"
    }
   ],
   "source": [
    "# get_prediction_from_url"
   ]
  },
  {
   "cell_type": "code",
   "execution_count": null,
   "id": "b8baa382",
   "metadata": {},
   "outputs": [],
   "source": []
  },
  {
   "cell_type": "code",
   "execution_count": null,
   "id": "5d8315e7",
   "metadata": {},
   "outputs": [],
   "source": []
  }
 ],
 "metadata": {
  "kernelspec": {
   "display_name": "Python 3 (ipykernel)",
   "language": "python",
   "name": "python3"
  },
  "language_info": {
   "codemirror_mode": {
    "name": "ipython",
    "version": 3
   },
   "file_extension": ".py",
   "mimetype": "text/x-python",
   "name": "python",
   "nbconvert_exporter": "python",
   "pygments_lexer": "ipython3",
   "version": "3.11.7"
  }
 },
 "nbformat": 4,
 "nbformat_minor": 5
}
